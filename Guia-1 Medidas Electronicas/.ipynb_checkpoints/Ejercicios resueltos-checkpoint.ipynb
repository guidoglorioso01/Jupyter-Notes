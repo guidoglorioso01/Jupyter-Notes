{
 "cells": [
  {
   "cell_type": "markdown",
   "id": "8d8526c4-cd0e-4503-9cac-51dbf2298b94",
   "metadata": {},
   "source": [
    "<h1>Ejercicio 1</h1>"
   ]
  },
  {
   "cell_type": "markdown",
   "id": "611a30f9-7a21-45f0-bddd-cf9943541367",
   "metadata": {},
   "source": [
    "<div style=\"text-align:center\">\n",
    "    <img src=\"consigna1.png\">\n",
    "</div>\n",
    "\n",
    "Se adjunta la resolucion en formato PDF a continuacion. \n",
    "\n",
    "<object data=\"Resolucion1.pdf\" type=\"application/pdf\" width=\"100%\" height=\"800px\">\n",
    "  <p>El archivo PDF no se puede mostrar. <a href=\"Resolucion1.pdf\">Haz clic aquí para descargarlo.</a></p>\n",
    "</object>\n",
    "\n",
    "\n",
    "\n"
   ]
  },
  {
   "cell_type": "markdown",
   "id": "e0c6b399-dc4e-43eb-9bfb-3645c22d0477",
   "metadata": {},
   "source": [
    "<h1>Ejercicio 2</h1>\n",
    "<div style=\"text-align:center\">\n",
    "    <img src=\"consigna2.png\">\n",
    "</div>\n",
    "a) Se debe observar la correlacion entre las variables de entrada si se utiliza para su determinacion el mismo instrumento de medida, el mismo patron o mismo dato de referencia con incertidumbres significativas.\n",
    "<br>\n",
    "b) Para este ejercicio lo resolvi con un script de python que replica la formula de la incertidumbre combinada para N variables.\n",
    "A continuacion se muestra el codigo:\n",
    "<h3>CASO resistencia \"R\":</h3>"
   ]
  },
  {
   "cell_type": "code",
   "execution_count": null,
   "id": "bc64e90e-853e-44dd-8ff2-aebbbf744c7a",
   "metadata": {},
   "outputs": [],
   "source": [
    "import sympy as sp\n",
    "\n",
    "V, F, I = sp.symbols('V F I') # Variables de la funcion\n",
    "\n",
    "var_der = [V,I,F] # Variables a derivar\n",
    "\n",
    "v_media = 4.999\n",
    "i_media = 0.019661 \n",
    "f_media = 1.04446\n",
    "\n",
    "v_std =  0.0032/sp.sqrt(5)\n",
    "i_std =  0.0000095/sp.sqrt(5)\n",
    "f_std =  0.00075/sp.sqrt(5)\n",
    "\n",
    "\n",
    "u_v = v_std # caso generico sp.sqrt(sp.pow(v_std,2)+sp.pow(v_tipoB,2))\n",
    "u_i = i_std\n",
    "u_f = f_std\n",
    "\n",
    "U = [u_v, u_i, u_f]\n",
    "\n",
    "# coeficientes de correlacion\n",
    "r_vi = -0.36\n",
    "r_vf = 0.86\n",
    "r_if = -0.65\n",
    "\n",
    "# Covarianzas\n",
    "cova_vi= r_vi * u_v * u_i\n",
    "cova_vf= r_vf * u_v * u_f\n",
    "cova_if= r_if * u_f * u_i\n",
    "cova = [cova_vi, cova_vf, cova_if]\n"
   ]
  },
  {
   "cell_type": "code",
   "execution_count": 5,
   "id": "3827814b-c4f2-43e4-97af-89c95fe242c5",
   "metadata": {
    "tags": []
   },
   "outputs": [
    {
     "name": "stdout",
     "output_type": "stream",
     "text": [
      "UC=0.0312954385521933\n"
     ]
    }
   ],
   "source": [
    "r = (V/I) * sp.cos(F)  # funcion a analizar\n",
    "\n",
    "resultado = 0\n",
    "# Primer sumatoria\n",
    "\n",
    "for var,u in zip(var_der,U):   \n",
    "    \n",
    "    dr_var = sp.diff(r, var) # Derivo respecto la variable \n",
    "    r_evaluated = dr_var.subs([(V, v_media), (I, i_media), (F, f_media)]) # Evaluo la funcion con los parametros\n",
    "    \n",
    "    #En cada caso multiplico por su u respectivo\n",
    "\n",
    "    r_evaluated *= u \n",
    "    \n",
    "    resultado += r_evaluated**2\n",
    "    \n",
    "#print(resultado)\n",
    "\n",
    "# Segundo termino\n",
    "\n",
    "resultado2 = 0\n",
    "\n",
    "for i1,var1 in enumerate(var_der): #Primer sum\n",
    "\n",
    "    if i1 == len(var_der): # Lo hago para evitar los problemas del ultimo elemento\n",
    "        break\n",
    "    \n",
    "    for i2,var2 in enumerate(var_der[i1+1:],start=i1):\n",
    "        \n",
    "        dr_var1 = sp.diff(r, var1)\n",
    "        dr_var2 = sp.diff(r, var2)\n",
    "        r_evaluated1 = dr_var1.subs([(V, v_media), (I, i_media), (F, f_media)])\n",
    "        r_evaluated2 = dr_var2.subs([(V, v_media), (I, i_media), (F, f_media)])\n",
    "        \n",
    "        resultado2 += (r_evaluated1 * r_evaluated2 * cova[i1+i2])\n",
    "      \n",
    "#print(resultado2)\n",
    "\n",
    "uc = resultado + 2*resultado2\n",
    "uc = sp.sqrt(uc,2)\n",
    "\n",
    "print(f\"UC={uc}\") "
   ]
  },
  {
   "cell_type": "markdown",
   "id": "09f5f34d-2624-4e4b-84c4-83eca3b3d81b",
   "metadata": {},
   "source": [
    "<h3>CASO reactancia \"X\":</h3>"
   ]
  },
  {
   "cell_type": "code",
   "execution_count": 6,
   "id": "ab7fea87-563a-4c18-a480-4db85162a87b",
   "metadata": {
    "tags": []
   },
   "outputs": [
    {
     "name": "stdout",
     "output_type": "stream",
     "text": [
      "UC=0.132248585383693\n"
     ]
    }
   ],
   "source": [
    "r = (V/I) * sp.sin(F)  # funcion a analizar\n",
    "\n",
    "resultado = 0\n",
    "# Primer sumatoria\n",
    "\n",
    "for var,u in zip(var_der,U):   \n",
    "    \n",
    "    dr_var = sp.diff(r, var) # Derivo respecto la variable \n",
    "    r_evaluated = dr_var.subs([(V, v_media), (I, i_media), (F, f_media)]) # Evaluo la funcion con los parametros\n",
    "    \n",
    "    #En cada caso multiplico por su u respectivo\n",
    "\n",
    "    r_evaluated *= u \n",
    "    \n",
    "    resultado += r_evaluated**2\n",
    "    \n",
    "#print(resultado)\n",
    "\n",
    "# Segundo termino\n",
    "\n",
    "resultado2 = 0\n",
    "\n",
    "for i1,var1 in enumerate(var_der): #Primer sum\n",
    "\n",
    "    if i1 == len(var_der): # Lo hago para evitar los problemas del ultimo elemento\n",
    "        break\n",
    "    \n",
    "    for i2,var2 in enumerate(var_der[i1+1:],start=i1):\n",
    "        \n",
    "        dr_var1 = sp.diff(r, var1)\n",
    "        dr_var2 = sp.diff(r, var2)\n",
    "        r_evaluated1 = dr_var1.subs([(V, v_media), (I, i_media), (F, f_media)])\n",
    "        r_evaluated2 = dr_var2.subs([(V, v_media), (I, i_media), (F, f_media)])\n",
    "        \n",
    "        resultado2 += (r_evaluated1 * r_evaluated2 * cova[i1+i2])\n",
    "      \n",
    "#print(resultado2)\n",
    "\n",
    "uc = resultado + 2*resultado2\n",
    "uc = sp.sqrt(uc,2)\n",
    "\n",
    "print(f\"UC={uc}\") "
   ]
  },
  {
   "cell_type": "markdown",
   "id": "ab1e9247-5517-46f1-843c-6d6a3fc2aee1",
   "metadata": {},
   "source": [
    "<h3>CASO impedancia \"Z\":</h3>\n",
    "En este caso como no se indican los coeficientes de correlacion entre resistencia y reactancia se puede hacer dos caminos. El primero aunque para mi el menos correcto seria calcular unicamente la incertidumbre del modulo de Z, ya que conocemos las covarianzas entre V e I"
   ]
  },
  {
   "cell_type": "code",
   "execution_count": 8,
   "id": "b10cd0d0-fa75-4930-a555-42373066da33",
   "metadata": {
    "tags": []
   },
   "outputs": [
    {
     "name": "stdout",
     "output_type": "stream",
     "text": [
      "UC=0.105812065740439\n"
     ]
    }
   ],
   "source": [
    "r = (V/I)  # funcion a analizar ||\n",
    "\n",
    "resultado = 0\n",
    "# Primer sumatoria\n",
    "\n",
    "for var,u in zip(var_der,U):   \n",
    "    \n",
    "    dr_var = sp.diff(r, var) # Derivo respecto la variable \n",
    "    r_evaluated = dr_var.subs([(V, v_media), (I, i_media), (F, f_media)]) # Evaluo la funcion con los parametros\n",
    "    \n",
    "    #En cada caso multiplico por su u respectivo\n",
    "\n",
    "    r_evaluated *= u \n",
    "    \n",
    "    resultado += r_evaluated**2\n",
    "    \n",
    "#print(resultado)\n",
    "\n",
    "# Segundo termino\n",
    "\n",
    "resultado2 = 0\n",
    "\n",
    "for i1,var1 in enumerate(var_der): #Primer sum\n",
    "\n",
    "    if i1 == len(var_der): # Lo hago para evitar los problemas del ultimo elemento\n",
    "        break\n",
    "    \n",
    "    for i2,var2 in enumerate(var_der[i1+1:],start=i1):\n",
    "        \n",
    "        dr_var1 = sp.diff(r, var1)\n",
    "        dr_var2 = sp.diff(r, var2)\n",
    "        r_evaluated1 = dr_var1.subs([(V, v_media), (I, i_media), (F, f_media)])\n",
    "        r_evaluated2 = dr_var2.subs([(V, v_media), (I, i_media), (F, f_media)])\n",
    "        \n",
    "        resultado2 += (r_evaluated1 * r_evaluated2 * cova[i1+i2])\n",
    "      \n",
    "#print(resultado2)\n",
    "\n",
    "uc = resultado + 2*resultado2\n",
    "uc = sp.sqrt(uc,2)\n",
    "\n",
    "print(f\"UC={uc}\") "
   ]
  },
  {
   "cell_type": "markdown",
   "id": "5530ae57-a7d1-4c3c-87d9-d20fe99f7e1c",
   "metadata": {},
   "source": [
    "Por otro lado si queremos calcular la incertidumbre combinada de Z completo, investigando llegue a la conclusion de que una posible aproximacion en este caso podria ser la siguiete:"
   ]
  },
  {
   "cell_type": "code",
   "execution_count": 11,
   "id": "30dc4248-8b40-42d3-8b5d-0fe8ab7cbf80",
   "metadata": {
    "tags": []
   },
   "outputs": [
    {
     "name": "stdout",
     "output_type": "stream",
     "text": [
      "UC(Z)= 0.135901040504339\n"
     ]
    }
   ],
   "source": [
    "uc_r = 0.0312954385521933\n",
    "uc_x = 0.132248585383693\n",
    "uc_z = sp.sqrt(uc_r**2+uc_x**2)\n",
    "print(f\"UC(Z)= {uc_z}\")"
   ]
  },
  {
   "cell_type": "markdown",
   "id": "6fa9ce54-89d8-4abc-a85e-dca7089eb596",
   "metadata": {},
   "source": [
    "<h1>Ejercicio 3</h1>"
   ]
  },
  {
   "cell_type": "markdown",
   "id": "21b93f2a-ee4c-4d7f-a533-59e3eda2f650",
   "metadata": {},
   "source": [
    "<div style=\"text-align:center\">\n",
    "    <img src=\"consigna3.png\">\n",
    "</div>\n",
    "\n",
    "Se adjunta la resolucion en formato PDF a continuacion. \n",
    "\n",
    "<object data=\"Resolucion3.pdf\" type=\"application/pdf\" width=\"100%\" height=\"800px\">\n",
    "  <p>El archivo PDF no se puede mostrar. <a href=\"Resolucion3.pdf\">Haz clic aquí para descargarlo.</a></p>\n",
    "</object>\n"
   ]
  },
  {
   "cell_type": "markdown",
   "id": "f01e2bf2-2f20-45d4-9f65-c72168190612",
   "metadata": {},
   "source": [
    "<h1>Ejercicio 4</h1>"
   ]
  },
  {
   "cell_type": "markdown",
   "id": "0fe72526-4b24-4748-a200-0502b877a2e6",
   "metadata": {},
   "source": [
    "<div style=\"text-align:center\">\n",
    "    <img src=\"consigna4.png\">\n",
    "</div>\n",
    "\n",
    "Se adjunta la resolucion en formato PDF a continuacion. \n",
    "\n",
    "<object data=\"Resolucion4.pdf\" type=\"application/pdf\" width=\"100%\" height=\"800px\">\n",
    "  <p>El archivo PDF no se puede mostrar. <a href=\"Resolucion4.pdf\">Haz clic aquí para descargarlo.</a></p>\n",
    "</object>"
   ]
  }
 ],
 "metadata": {
  "kernelspec": {
   "display_name": "Python 3 (ipykernel)",
   "language": "python",
   "name": "python3"
  },
  "language_info": {
   "codemirror_mode": {
    "name": "ipython",
    "version": 3
   },
   "file_extension": ".py",
   "mimetype": "text/x-python",
   "name": "python",
   "nbconvert_exporter": "python",
   "pygments_lexer": "ipython3",
   "version": "3.11.2"
  }
 },
 "nbformat": 4,
 "nbformat_minor": 5
}
