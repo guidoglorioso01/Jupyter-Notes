{
 "cells": [
  {
   "cell_type": "markdown",
   "id": "7cad34a7-1cad-4ba4-a383-2a06909efeee",
   "metadata": {},
   "source": [
    "## Tarea Semanal 1 - Teoria de Circuitos\n"
   ]
  }
 ],
 "metadata": {
  "kernelspec": {
   "display_name": "Python 3 (ipykernel)",
   "language": "python",
   "name": "python3"
  },
  "language_info": {
   "codemirror_mode": {
    "name": "ipython",
    "version": 3
   },
   "file_extension": ".py",
   "mimetype": "text/x-python",
   "name": "python",
   "nbconvert_exporter": "python",
   "pygments_lexer": "ipython3",
   "version": "3.11.2"
  }
 },
 "nbformat": 4,
 "nbformat_minor": 5
}
