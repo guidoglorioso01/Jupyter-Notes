{
 "cells": [
  {
   "cell_type": "markdown",
   "id": "2a2c5688-c6d0-4180-9196-09d86e9184c6",
   "metadata": {},
   "source": [
    "## Trabajo Semanal 2 - Teoria de circuitos\n",
    "\n",
    "<h3> Consignas </h3>\n",
    "\n",
    "<div style=\"text-align:center;\" >\n",
    "    <img src=\"Circuito.png\">\n",
    "    <br>\n",
    "    <br>\n",
    "    <img src=\"Consignas.png\">\n",
    "</div>\n",
    "\n",
    "\n",
    "\n"
   ]
  },
  {
   "cell_type": "markdown",
   "id": "8c588b21-5e20-4ba1-8830-8ad0b2c216f7",
   "metadata": {},
   "source": [
    "<h3>Desarrollo de consignas </h3>\n",
    "\n",
    "Se adjunta el desarrollo hecho a mano:\n",
    "\n",
    "<object data=\"Desarrollo.pdf\" type=\"application/pdf\" width=\"100%\" height=\"800px\">\n",
    "  <p>El archivo PDF no se puede mostrar. <a href=\"archivo.pdf\">Haz clic aquí para descargarlo.</a></p>\n",
    "</object>\n",
    "\n",
    "[Descargar archivo PDF](./Desarrollo.pdf)\n",
    "\n"
   ]
  }
 ],
 "metadata": {
  "kernelspec": {
   "display_name": "Python 3 (ipykernel)",
   "language": "python",
   "name": "python3"
  },
  "language_info": {
   "codemirror_mode": {
    "name": "ipython",
    "version": 3
   },
   "file_extension": ".py",
   "mimetype": "text/x-python",
   "name": "python",
   "nbconvert_exporter": "python",
   "pygments_lexer": "ipython3",
   "version": "3.11.2"
  }
 },
 "nbformat": 4,
 "nbformat_minor": 5
}
