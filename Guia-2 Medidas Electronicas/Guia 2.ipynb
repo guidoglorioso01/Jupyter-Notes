{
 "cells": [
  {
   "cell_type": "markdown",
   "id": "303dc065-01b8-474a-b67e-a469eb977dbe",
   "metadata": {},
   "source": [
    "## Guia de ejercicios 2 - Medidas electronicas\n",
    "\n",
    "<h3> Ejercicio 1 </h3>\n",
    "\n",
    "<div style=\"text-align:center;\" >\n",
    "    <img src=\"consigna1.png\">\n",
    "    <br>\n",
    "</div>\n",
    "<h3>Desarrollo:</h3>"
   ]
  },
  {
   "cell_type": "markdown",
   "id": "62e28467-575e-495a-9dd0-3b21127e3ec9",
   "metadata": {},
   "source": [
    "Los problemas tipicos que se presentan son que los multimetros salvo sean True RMS, miden el valor de RMS en forma indirecta y esto\n",
    "lo hacen mediante la medicion de un parametro como puede ser la tension pico, o el valor medio y luego multiplicandolos por una constante que representa la relacion entre el valor medido y el valor rms. El problema es que cuando la señal que se mide no es una senoidal como esperaria medir el instrumento, el procedimiento que se realiza es el mismo, por lo que el valor medido no es el valor real de la señal"
   ]
  },
  {
   "cell_type": "code",
   "execution_count": 6,
   "id": "2e69a657-0af5-4ebb-bd02-fe6737276e58",
   "metadata": {
    "tags": []
   },
   "outputs": [],
   "source": [
    "# Desarrollo ejercicio 1\n",
    "\n",
    "import numpy as np\n",
    "import sympy as sp\n",
    "\n",
    "frec = 500\n",
    "\n",
    "# Voltimetro 1\n",
    "v1_medido = 0.850\n",
    "v1_pico = v1_medido * np.sqrt(2) # Valor pico de la señal cuadrada\n",
    "inc_digit = (2 / round((v1_pico * 1999 / 2))) #tester de 3 digitos y medio\n",
    "uj_v1 = v1_pico * (0.0005 + inc_digit) / np.sqrt(3)\n",
    "# se considera que u_i es despreciable\n",
    "uc_v1 = uj_v1 # distribucion cuadrada\n",
    "\n",
    "\n",
    "# Voltimetro 2\n",
    "v2_medido = 0.553\n",
    "v2_vmed = v2_medido/1.111 # Valor medio modulo\n",
    "inc_digit = (2 / round((v2_vmed * 1999 / 2))) #tester de 3 digitos y medio\n",
    "uj_v2 = v2_vmed * (0.0005 + inc_digit) / np.sqrt(3)\n",
    "# se considera que u_i es despreciable\n",
    "uc_v2 = uj_v2 # distribucion cuadrada\n",
    "\n",
    "\n",
    "# Voltimetro 3\n",
    "v3_vmed = 0.360 # Valor medio DC\n",
    "inc_digit = (2 / round((v3_vmed * 1999 / 2))) #tester de 3 digitos y medio\n",
    "uj_v3 = v3_vmed * (0.005 + inc_digit) / np.sqrt(3)\n",
    "# se considera que u_i es despreciable\n",
    "uc_v3 = uj_v3 # distribucion cuadrada\n",
    "\n",
    "\n",
    "\n"
   ]
  },
  {
   "cell_type": "code",
   "execution_count": 7,
   "id": "94ff7ca2-0285-4762-9c9a-e45410528575",
   "metadata": {
    "tags": []
   },
   "outputs": [],
   "source": [
    "Vmed, Vmed_mod, Vpico = sp.symbols('Vmed Vmed_mod Vpico') # Variables de la funcion\n",
    "\n",
    "var_der = [Vmed,Vmed_mod,Vpico] # Variables a derivar\n",
    "\n",
    "U = [uc_v3, uc_v2, uc_v1]\n",
    "\n",
    "\n",
    "\n"
   ]
  },
  {
   "cell_type": "code",
   "execution_count": 8,
   "id": "7c059372-e651-4f4a-ac86-02626a8087a7",
   "metadata": {
    "tags": []
   },
   "outputs": [
    {
     "ename": "SyntaxError",
     "evalue": "invalid syntax (1633357443.py, line 1)",
     "output_type": "error",
     "traceback": [
      "\u001b[1;36m  Cell \u001b[1;32mIn[8], line 1\u001b[1;36m\u001b[0m\n\u001b[1;33m    r =   # funcion a analizar\u001b[0m\n\u001b[1;37m          ^\u001b[0m\n\u001b[1;31mSyntaxError\u001b[0m\u001b[1;31m:\u001b[0m invalid syntax\n"
     ]
    }
   ],
   "source": [
    "r =   # funcion a analizar\n",
    "\n",
    "resultado = 0\n",
    "# Primer sumatoria\n",
    "\n",
    "for var,u in zip(var_der,U):   \n",
    "    \n",
    "    dr_var = sp.diff(r, var) # Derivo respecto la variable \n",
    "    r_evaluated = dr_var.subs([(Vmed, V3_vmed), (Vmed_mod, V2_vmed ), (Vpico, v1_pico)]) # Evaluo la funcion con los parametros\n",
    "    \n",
    "    #En cada caso multiplico por su u respectivo\n",
    "\n",
    "    r_evaluated *= u \n",
    "    \n",
    "    resultado += r_evaluated**2\n",
    "\n",
    "\n",
    "uc = resultado\n",
    "uc = sp.sqrt(uc,2)\n",
    "uc_95= uc*2\n",
    "print(f\"UC={uc_95}\") "
   ]
  },
  {
   "cell_type": "markdown",
   "id": "b273554b-08a9-4128-b311-a6206fe5cd44",
   "metadata": {},
   "source": [
    "\n",
    "<h3> Ejercicio 2 </h3>\n",
    "\n",
    "<div style=\"text-align:center;\" >\n",
    "    <img src=\"consigna2.png\">\n",
    "    <br>\n",
    "</div>\n",
    "<h3>Desarrollo:</h3>"
   ]
  },
  {
   "cell_type": "markdown",
   "id": "c67b805a-0474-4d59-a28f-e0da8df96b08",
   "metadata": {},
   "source": [
    "Se adjunta el desarrollo hecho a mano:\n",
    "\n",
    "<object data=\"ejer2_desarrollo.pdf\" type=\"application/pdf\" width=\"100%\" height=\"800px\">\n",
    "  <p>El archivo PDF no se puede mostrar. <a href=\"ejer2_desarrollo.pdf\">Haz clic aquí para descargarlo.</a></p>\n",
    "</object>"
   ]
  },
  {
   "cell_type": "markdown",
   "id": "4c4bde1c-a099-4b43-90c7-49c7afca2419",
   "metadata": {},
   "source": [
    "\n",
    "<h3> Ejercicio 3 </h3>\n",
    "\n",
    "<div style=\"text-align:center;\" >\n",
    "    <img src=\"consigna3.png\">\n",
    "    <br>\n",
    "</div>\n",
    "<h3>Desarrollo:</h3>"
   ]
  },
  {
   "cell_type": "markdown",
   "id": "2e5b1439-29f5-412b-b8b4-8d5a6ffad6a2",
   "metadata": {},
   "source": [
    "Con trueRMS\n",
    "$$\n",
    "Vrms = \\sqrt{\\frac{1}{T}\\int_{0}^{T} |f(t)|^2 \\, dt} \n",
    "$$\n",
    "$$\n",
    "f(t) = 150v *sen(2 \\pi 50 t) \\:\\:[entre\\: 5ms\\: y\\: 10ms] \\:\\: y \\:\\: [entre \\: 15ms \\: y \\: 20ms]\n",
    "$$\n",
    "\n",
    "\n",
    "Resolviendo la integral y remplazando los valores que corresponden obtenemos el valor RMS\n",
    "$$\n",
    "Vrms = 75V\n",
    "$$\n",
    "\n",
    "\n",
    "Si ahora analizamos que obtendriamos con un tester con parametro de medicion Vpico obtendriamos lo siguiente:\n",
    "\n",
    "\n",
    "$$\n",
    "Vrms(tester) = \\frac{Vpico}{\\sqrt{2}} = 106,06V\n",
    "$$\n",
    "\n",
    "Si ahora analizamos que obtendriamos con un tester con parametro de medicion Valor medio modulo obtendriamos lo siguiente: \n",
    "\n",
    "$$\n",
    "ValorMed=  \\frac{1}{T}\\int_{0}^{T} 150*sen(2 \\pi 50 t)  \\, dx = 47,746\n",
    "$$\n",
    "$$\n",
    "Vrms(tester) = ValorMed * 1,11 = 53,046 \n",
    "$$"
   ]
  },
  {
   "cell_type": "markdown",
   "id": "b4747762-11ee-4790-ba4d-efea37f4fa04",
   "metadata": {},
   "source": [
    "\n",
    "<h3> Ejercicio 4 </h3>\n",
    "\n",
    "<div style=\"text-align:center;\" >\n",
    "    <img src=\"consigna4a.png\">\n",
    "    <br>\n",
    "</div>\n",
    "<h3>Desarrollo:</h3>"
   ]
  },
  {
   "cell_type": "markdown",
   "id": "24ddffaa-d211-4757-84ed-63767252eb0b",
   "metadata": {},
   "source": [
    "Señal 1:\n",
    "a)- \n",
    "Vpico_pico = 1200mV\n",
    "Vpico = 600mV\n",
    "$$\n",
    "Vmed_modulo = \\frac{2}{T} \\frac{Vpico * \\frac{T}{2}}{2}=300mV\n",
    "$$\n",
    "$$\n",
    "Vrms(tester) = 1,11 * 300mV = 333mV\n",
    "$$\n",
    "b)-\n",
    "Vpico = 600mV\n",
    "$$\n",
    "Vrms(tester) = \\frac{Vpico}{\\sqrt{2}} = 424mV\n",
    "$$\n",
    "c)-\n",
    "Valor Rms real\n",
    "$$\n",
    "Vrms = \\frac{Vpico}{\\sqrt{3}} = 346,41mV\n",
    "$$\n",
    "d)-\n",
    "El valor de continua de la señal es de 200mV \n",
    "\n",
    "Señal 2:\n",
    "\n",
    "a)-\n",
    "Debido a que tiene un duty de 50% el valor medio de modulo es:\n",
    "$$\n",
    "Vmed = 400mV\n",
    "$$\n",
    "Esto debido a que luego de ser filtrada y rectificada la señal lo que obtenemos es una continua de 400mV, por lo que al hacer su valor medio modulo obtenemos 400mV\n",
    "$$\n",
    "Vrms = Vmed * 1,11 = 444mV\n",
    "$$\n",
    "b)-\n",
    "Debido a que es duty 50% el Vp es igual 400mV luego su Vrms segun el instrumento sera\n",
    "$$\n",
    "Vrms = \\frac{400mV}{\\sqrt{2}} =282,84mV\n",
    "$$\n",
    "\n",
    "c)-\n",
    "Valor Rms real\n",
    "$$\n",
    "Vrms = \\sqrt{\\frac{1}{T}\\int_{0}^{T} |f(t)|^2 \\, dt} \n",
    "$$\n",
    "$$\n",
    "f(t) = 400mV \\:\\:[entre\\: 0\\: y\\: \\frac{T}{2}] \n",
    "$$\n",
    "Y\n",
    "$$\n",
    "f(t) = -400mV \\:\\: [entre \\: \\frac{T}{2} \\: y \\: T]\n",
    "$$\n",
    "Por lo que resolviendo la integral el resultado del valor rms sera:\n",
    "$$\n",
    "Vrms = 400mV\n",
    "$$\n",
    "d)-\n",
    "Con respecto al valor medio algebraico se refiere al valor medio de la señal que equivaldria a su nivel de DC, Como en este caso la señal\n",
    "es de duty 50% no aporta ningun nivel de continua, en concecuencia la unica continua que tendra es el valor sobre el cual se monta la señal\n",
    "en este caso:\n",
    "DC = 200mV\n"
   ]
  }
 ],
 "metadata": {
  "kernelspec": {
   "display_name": "Python 3 (ipykernel)",
   "language": "python",
   "name": "python3"
  },
  "language_info": {
   "codemirror_mode": {
    "name": "ipython",
    "version": 3
   },
   "file_extension": ".py",
   "mimetype": "text/x-python",
   "name": "python",
   "nbconvert_exporter": "python",
   "pygments_lexer": "ipython3",
   "version": "3.11.2"
  }
 },
 "nbformat": 4,
 "nbformat_minor": 5
}
